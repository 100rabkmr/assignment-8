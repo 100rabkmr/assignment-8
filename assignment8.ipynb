{
 "cells": [
  {
   "cell_type": "raw",
   "id": "cf73f687",
   "metadata": {},
   "source": [
    "1. Is the Python Standard Library included with PyInputPlus?\n",
    "\n",
    "ans) PyInputPlus is not a part of the Python Standard Library, so you must install it separately using Pip\n",
    "            "
   ]
  },
  {
   "cell_type": "raw",
   "id": "b4b21eed",
   "metadata": {},
   "source": [
    "2. Why is PyInputPlus commonly imported with import pyinputplus as pypi?\n",
    "\n",
    "ans) pypi is alias of PyInputPlus. The as pyip code in the import statement saves us from typing pyinputplus\n",
    "            each time we want to call a PyInputPlus function.\n",
    "            Instead we can use the shorter pyip name"
   ]
  },
  {
   "cell_type": "raw",
   "id": "103558fe",
   "metadata": {},
   "source": [
    "3. How do you distinguish between inputInt() and inputFloat()?\n",
    "\n",
    "ans)   inputInt() : Accepts an integer value, and returns int value\n",
    "       inputFloat() : Accepts integer/floating point value and returns float value"
   ]
  },
  {
   "cell_type": "raw",
   "id": "d2750286",
   "metadata": {},
   "source": [
    "4. Using PyInputPlus, how do you ensure that the user enters a whole number between 0 and 99?\n",
    "\n",
    "\n",
    "ans) In the inputint function we can set the min = 0 and max =99 to ensure user enters number between 0 and 99.\n"
   ]
  },
  {
   "cell_type": "raw",
   "id": "dc3d43ab",
   "metadata": {},
   "source": [
    "5. What is transferred to the keyword arguments allowRegexes and blockRegexes?\n",
    "\n",
    "ans)      We can also use regular expressions to specify whether an input is allowed or not.       \n",
    "       The allowRegexes and blockRegexes keyword arguments take a list of regular expression strings to determine\n",
    "            what the PyInputPlus function will accept or reject as valid input.\n"
   ]
  },
  {
   "cell_type": "raw",
   "id": "c918fa05",
   "metadata": {},
   "source": [
    "6. If a blank input is entered three times, what does inputStr(limit=3) do?\n",
    "\n",
    "ans).      It will throw RetryLimitException exception."
   ]
  },
  {
   "cell_type": "raw",
   "id": "1948a3e1",
   "metadata": {},
   "source": [
    "7. If blank input is entered three times, what does inputStr(limit=3, default='hello') do?\n",
    "                                                             \n",
    "                                                             \n",
    "ans).   When you use limit keyword arguments and also pass a default keyword argument,\n",
    "      the function returns the default value instead of raising an exception"
   ]
  }
 ],
 "metadata": {
  "kernelspec": {
   "display_name": "Python 3 (ipykernel)",
   "language": "python",
   "name": "python3"
  },
  "language_info": {
   "codemirror_mode": {
    "name": "ipython",
    "version": 3
   },
   "file_extension": ".py",
   "mimetype": "text/x-python",
   "name": "python",
   "nbconvert_exporter": "python",
   "pygments_lexer": "ipython3",
   "version": "3.11.7"
  }
 },
 "nbformat": 4,
 "nbformat_minor": 5
}
